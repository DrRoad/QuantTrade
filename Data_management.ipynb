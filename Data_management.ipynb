{
 "cells": [
  {
   "cell_type": "markdown",
   "metadata": {},
   "source": [
    "# Data Management"
   ]
  },
  {
   "cell_type": "markdown",
   "metadata": {},
   "source": [
    "Here we will discuss how we can set up the system to retrieve, store, load, and prepare the data for analysis."
   ]
  },
  {
   "cell_type": "markdown",
   "metadata": {},
   "source": [
    "## Setting Up Directory"
   ]
  },
  {
   "cell_type": "markdown",
   "metadata": {},
   "source": [
    "We need to set up a couple directories\n",
    "\n",
    "- Root directory which will be the directory that these tutorials are held\n",
    "- Data directory \n",
    "- function directory"
   ]
  },
  {
   "cell_type": "code",
   "execution_count": 2,
   "metadata": {},
   "outputs": [
    {
     "name": "stdout",
     "output_type": "stream",
     "text": [
      "Backtesting Basics.ipynb        Intro to Strategies and Considerations.ipynb\r\n",
      "Data_management.ipynb           README.md\r\n",
      "Definitions and Formulas.ipynb  \u001b[0m\u001b[01;34mstockdata\u001b[0m/\r\n",
      "\u001b[01;34mfunctions\u001b[0m/\r\n"
     ]
    }
   ],
   "source": [
    "%ls"
   ]
  },
  {
   "cell_type": "code",
   "execution_count": 4,
   "metadata": {},
   "outputs": [],
   "source": [
    "%load_ext rpy2.ipython"
   ]
  },
  {
   "cell_type": "code",
   "execution_count": 53,
   "metadata": {},
   "outputs": [],
   "source": [
    "%%R\n",
    "rootdir <- \"/home/ck1/Documents/Projects/Python/QuantTrade/\"\n",
    "datadir <- \"/home/ck1/Documents/Projects/Python/QuantTrade/stockdata/\"\n",
    "functiondir <- \"/home/ck1/Documents/Projects/Python/QuantTrade/functions/\""
   ]
  },
  {
   "cell_type": "markdown",
   "metadata": {},
   "source": [
    "## URL Query Building"
   ]
  },
  {
   "cell_type": "markdown",
   "metadata": {},
   "source": [
    "It seems that the Yahoo Stock Service has been closed. So we will use the new Quandl R package to extract some data... let's see how this works. Wee need to set up a function that will download all historical data from start to end date"
   ]
  },
  {
   "cell_type": "code",
   "execution_count": 33,
   "metadata": {},
   "outputs": [
    {
     "data": {
      "text/plain": [
       "        Date    Open    High     Low   Close  Volume Ex-Dividend Split Ratio\n",
       "1 2018-01-17 1136.36 1139.32 1123.49 1139.10 1353097           0           1\n",
       "2 2018-01-16 1140.31 1148.88 1126.66 1130.70 1783881           0           1\n",
       "3 2018-01-12 1110.10 1131.30 1108.01 1130.65 1914460           0           1\n",
       "4 2018-01-11 1112.31 1114.85 1106.48 1111.88 1102461           0           1\n",
       "5 2018-01-10 1107.00 1112.78 1103.98 1110.14 1027781           0           1\n",
       "6 2018-01-09 1118.44 1118.44 1108.20 1112.79 1335995           0           1\n",
       "  Adj. Open Adj. High Adj. Low Adj. Close Adj. Volume\n",
       "1   1136.36   1139.32  1123.49    1139.10     1353097\n",
       "2   1140.31   1148.88  1126.66    1130.70     1783881\n",
       "3   1110.10   1131.30  1108.01    1130.65     1914460\n",
       "4   1112.31   1114.85  1106.48    1111.88     1102461\n",
       "5   1107.00   1112.78  1103.98    1110.14     1027781\n",
       "6   1118.44   1118.44  1108.20    1112.79     1335995\n"
      ]
     },
     "metadata": {},
     "output_type": "display_data"
    }
   ],
   "source": [
    "%%R\n",
    "library(Quandl) # load the library\n",
    "Quandl.api_key(\"NcNrBJn7i4MR4k3u8D1t\") # This is the Quandl API_key that they give you\n",
    "GOOGL <- Quandl(\"WIKI/GOOGL\")\n",
    "head(GOOGL) # this gets us from the most current to the latest information"
   ]
  },
  {
   "cell_type": "markdown",
   "metadata": {},
   "source": [
    "## Data Acquisition"
   ]
  },
  {
   "cell_type": "markdown",
   "metadata": {},
   "source": [
    "Now we want to fetch a list of esired stocks... we will start with S&P 500"
   ]
  },
  {
   "cell_type": "code",
   "execution_count": 34,
   "metadata": {},
   "outputs": [],
   "source": [
    "%%R\n",
    "\n",
    "url <- \"http://trading.chrisconlan.com/SPstocks.csv\"\n",
    "S <- as.character(read.csv(url,header=FALSE)[,1])\n",
    "setwd(rootdir)\n",
    "dump(list=\"S\",\"S.R\")"
   ]
  },
  {
   "cell_type": "markdown",
   "metadata": {},
   "source": [
    "Now we create a workflow that will download all of of the S&P data into the folder given that the ticker is in the S file if not then it will be inside the initial root directory."
   ]
  },
  {
   "cell_type": "code",
   "execution_count": 47,
   "metadata": {},
   "outputs": [],
   "source": [
    "%%R\n",
    "\n",
    "# create function that will extract the closing price into dataframe\n",
    "quandlfunc <- function(sym, start=\"2000-01-01\"){\n",
    "    library(data.table)\n",
    "    tryCatch(\n",
    "    suppressWarnings(\n",
    "    Quandl(paste0(\"WIKI/\",sym), start = start)),\n",
    "    error = function(e) NULL\n",
    "    )\n",
    "}\n",
    "setwd(functiondir)\n",
    "dump(list=c(\"quandlfunc\"), \"quandlfunc.R\")"
   ]
  },
  {
   "cell_type": "code",
   "execution_count": 48,
   "metadata": {},
   "outputs": [
    {
     "data": {
      "text/plain": [
       "        Date    Open    High     Low   Close  Volume Ex-Dividend Split Ratio\n",
       "1 2018-01-17 1136.36 1139.32 1123.49 1139.10 1353097           0           1\n",
       "2 2018-01-16 1140.31 1148.88 1126.66 1130.70 1783881           0           1\n",
       "3 2018-01-12 1110.10 1131.30 1108.01 1130.65 1914460           0           1\n",
       "4 2018-01-11 1112.31 1114.85 1106.48 1111.88 1102461           0           1\n",
       "5 2018-01-10 1107.00 1112.78 1103.98 1110.14 1027781           0           1\n",
       "6 2018-01-09 1118.44 1118.44 1108.20 1112.79 1335995           0           1\n",
       "  Adj. Open Adj. High Adj. Low Adj. Close Adj. Volume\n",
       "1   1136.36   1139.32  1123.49    1139.10     1353097\n",
       "2   1140.31   1148.88  1126.66    1130.70     1783881\n",
       "3   1110.10   1131.30  1108.01    1130.65     1914460\n",
       "4   1112.31   1114.85  1106.48    1111.88     1102461\n",
       "5   1107.00   1112.78  1103.98    1110.14     1027781\n",
       "6   1118.44   1118.44  1108.20    1112.79     1335995\n"
      ]
     },
     "metadata": {},
     "output_type": "display_data"
    }
   ],
   "source": [
    "%%R\n",
    "\n",
    "GOOGL <- quandlfunc(\"GOOGL\")\n",
    "head(GOOGL)"
   ]
  },
  {
   "cell_type": "code",
   "execution_count": 50,
   "metadata": {},
   "outputs": [],
   "source": [
    "%%R\n",
    "\n",
    "#load \"invalid.R\" file if available\n",
    "invalid <- character(0)\n",
    "setwd(rootdir)\n",
    "if(\"invalid.R\" %in% list.files()) source(\"invalid.R\")\n",
    "\n",
    "# fina all symbols not in directory and not missing\n",
    "setwd(datadir)\n",
    "toload <- setdiff(S[!paste0(S, \".csv\") %in% list.files()], invalid) # we only make a list for those to load\n",
    "\n"
   ]
  },
  {
   "cell_type": "code",
   "execution_count": 61,
   "metadata": {},
   "outputs": [],
   "source": [
    "%%R\n",
    "\n",
    "# fetch symbols with the quandlfunction, as as .csv or missing\n",
    "source(paste0(functiondir, \"quandlfunc.R\"))\n",
    "if(length(toload)!=0){\n",
    "    for(i in 1:length(toload)){\n",
    "        \n",
    "        df <- quandlfunc(toload[i])\n",
    "        \n",
    "        if(!is.null(df)){\n",
    "            write.csv(df[nrow(df):1,], file = paste0(toload[i], \".csv\"),row.names = FALSE)\n",
    "        } else {\n",
    "            invalid <- c(invalid, toload[i])\n",
    "        }\n",
    "    }\n",
    "}"
   ]
  },
  {
   "cell_type": "code",
   "execution_count": 63,
   "metadata": {},
   "outputs": [
    {
     "name": "stderr",
     "output_type": "stream",
     "text": [
      "/usr/local/lib/python3.6/dist-packages/rpy2/rinterface/__init__.py:145: RRuntimeWarning: Loading required package: TTR\n",
      "\n",
      "  warnings.warn(x, RRuntimeWarning)\n",
      "/usr/local/lib/python3.6/dist-packages/rpy2/rinterface/__init__.py:145: RRuntimeWarning: Version 0.4-0 included new data defaults. See ?getSymbols.\n",
      "Learn from a quantmod author: https://www.datacamp.com/courses/importing-and-managing-financial-data-in-r\n",
      "\n",
      "  warnings.warn(x, RRuntimeWarning)\n",
      "/usr/local/lib/python3.6/dist-packages/rpy2/rinterface/__init__.py:145: RRuntimeWarning: ‘getSymbols’ currently uses auto.assign=TRUE by default, but will\n",
      "use auto.assign=FALSE in 0.5-0. You will still be able to use\n",
      "‘loadSymbols’ to automatically load data. getOption(\"getSymbols.env\")\n",
      "and getOption(\"getSymbols.auto.assign\") will still be checked for\n",
      "alternate defaults.\n",
      "\n",
      "This message is shown once per session and may be disabled by setting \n",
      "options(\"getSymbols.warning4.0\"=FALSE). See ?getSymbols for details.\n",
      "\n",
      "  warnings.warn(x, RRuntimeWarning)\n",
      "/usr/local/lib/python3.6/dist-packages/rpy2/rinterface/__init__.py:145: RRuntimeWarning: \n",
      "WARNING: There have been significant changes to Yahoo Finance data.\n",
      "Please see the Warning section of ‘?getSymbols.yahoo’ for details.\n",
      "\n",
      "This message is shown once per session and may be disabled by setting\n",
      "options(\"getSymbols.yahoo.warning\"=FALSE).\n",
      "\n",
      "  warnings.warn(x, RRuntimeWarning)\n"
     ]
    },
    {
     "data": {
      "text/plain": [
       "Unit: milliseconds\n",
       "                 expr      min        lq      mean    median        uq      max\n",
       "  getSymbols(\"GOOGL\") 191.7464  273.1798  430.4343  337.5031  429.7114 2666.447\n",
       " Quandl(\"WIKI/GOOGL\") 931.3664 1134.4128 1302.7230 1272.2823 1426.8681 2652.056\n",
       " neval cld\n",
       "   100  a \n",
       "   100   b\n"
      ]
     },
     "metadata": {},
     "output_type": "display_data"
    }
   ],
   "source": [
    "%%R\n",
    "\n",
    "# Here is a check on which function is faster in loading data\n",
    "library(quantmod)\n",
    "library(microbenchmark)\n",
    "microbenchmark(\n",
    "  getSymbols(\"GOOGL\"),\n",
    "  Quandl(\"WIKI/GOOGL\")\n",
    ")\n",
    "\n",
    "# faster way to load the above code is to vectorize the process and save accordingly\n"
   ]
  },
  {
   "cell_type": "markdown",
   "metadata": {},
   "source": [
    "Based on what we're seeing with `microbenchmark` it seems that the getSymbols function is 3x faster than the Quandl function... so let's edit the above code to download and also fast write into csv using the `fwrite` function in `library(data.table)`"
   ]
  },
  {
   "cell_type": "markdown",
   "metadata": {},
   "source": [
    "We've successfully saved all the stock data (of interest) into our folder and now need to remove objects from the environment except for path variables and functions"
   ]
  },
  {
   "cell_type": "code",
   "execution_count": null,
   "metadata": {},
   "outputs": [],
   "source": [
    "%%R\n",
    "rm(list = setdiff(ls(), c(\"rootdir\", \"functiondir\", \"datadir\", \"yahoo\")))\n",
    "gc()"
   ]
  },
  {
   "cell_type": "code",
   "execution_count": null,
   "metadata": {},
   "outputs": [],
   "source": []
  },
  {
   "cell_type": "code",
   "execution_count": null,
   "metadata": {},
   "outputs": [],
   "source": []
  }
 ],
 "metadata": {
  "kernelspec": {
   "display_name": "Python 3",
   "language": "python",
   "name": "python3"
  },
  "language_info": {
   "codemirror_mode": {
    "name": "ipython",
    "version": 3
   },
   "file_extension": ".py",
   "mimetype": "text/x-python",
   "name": "python",
   "nbconvert_exporter": "python",
   "pygments_lexer": "ipython3",
   "version": "3.6.1"
  }
 },
 "nbformat": 4,
 "nbformat_minor": 2
}
